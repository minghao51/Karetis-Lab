{
  "nbformat": 4,
  "nbformat_minor": 0,
  "metadata": {
    "colab": {
      "name": "Karetis Lab Colab Widgets.ipynb",
      "provenance": [],
      "authorship_tag": "ABX9TyOXBrqDye5IdDKeFfV5Aci1",
      "include_colab_link": true
    },
    "kernelspec": {
      "name": "python3",
      "display_name": "Python 3"
    }
  },
  "cells": [
    {
      "cell_type": "markdown",
      "metadata": {
        "id": "view-in-github",
        "colab_type": "text"
      },
      "source": [
        "<a href=\"https://colab.research.google.com/github/minghao51/Karetis-Lab/blob/master/Karetis_Lab_Colab_Widgets.ipynb\" target=\"_parent\"><img src=\"https://colab.research.google.com/assets/colab-badge.svg\" alt=\"Open In Colab\"/></a>"
      ]
    },
    {
      "cell_type": "code",
      "metadata": {
        "id": "qfT8qWPNX9A-"
      },
      "source": [
        "%%capture\n",
        "# downloading and ensure that we have spacy and the vector - en_core_web_lg ready\n",
        "!pip install numpy=1.19.3\n",
        "!pip install pandas\n",
        "!pip install spacy\n",
        "!python -m spacy download en\n",
        "!python -m spacy download en_core_web_lg"
      ],
      "execution_count": 1,
      "outputs": []
    },
    {
      "cell_type": "code",
      "metadata": {
        "id": "Uz6BlS6-X-cN"
      },
      "source": [
        "import spacy\n",
        "from spacy import displacy\n",
        "import numpy as np\n",
        "import pandas as pd\n",
        "\n",
        "# spacy english model (large)\n",
        "nlp = spacy.load('en_core_web_lg')"
      ],
      "execution_count": 2,
      "outputs": []
    },
    {
      "cell_type": "code",
      "metadata": {
        "id": "PvfF1wBmYAbY"
      },
      "source": [
        ""
      ],
      "execution_count": 2,
      "outputs": []
    }
  ]
}